{
 "cells": [
  {
   "cell_type": "code",
   "execution_count": null,
   "id": "2606393d-2acc-4684-85f8-d13dd1558d1d",
   "metadata": {},
   "outputs": [],
   "source": [
    "# AI-Based Financial Fraud Detection System\n",
    "### Developed By PRASIDDHA PAL\n",
    "\n",
    "#This notebook uses machine learning to detect fraudulent financial transactions.\n",
    "\n",
    "# Cell 1: Import libraries\n",
    "import pandas as pd\n",
    "import numpy as np\n",
    "import matplotlib.pyplot as plt\n",
    "import seaborn as sns\n",
    "from sklearn.model_selection import train_test_split\n",
    "from sklearn.preprocessing import StandardScaler\n",
    "from sklearn.ensemble import RandomForestClassifier\n",
    "from sklearn.metrics import classification_report, confusion_matrix\n",
    "\n",
    "# Cell 2: Load the dataset\n",
    "df = pd.read_csv(\"creditcard.csv\")  # use your dataset path here\n",
    "print(df.head())\n",
    "\n",
    "# Cell 3: Check for class distribution\n",
    "print(df[\"Class\"].value_counts())  # 0 = non-fraud, 1 = fraud\n",
    "\n",
    "# Cell 4: Data preprocessing\n",
    "scaler = StandardScaler()\n",
    "df[\"Amount\"] = scaler.fit_transform(df[\"Amount\"].values.reshape(-1, 1))\n",
    "df.drop([\"Time\"], axis=1, inplace=True)\n",
    "\n",
    "# Cell 5: Split data\n",
    "X = df.drop(\"Class\", axis=1)\n",
    "y = df[\"Class\"]\n",
    "X_train, X_test, y_train, y_test = train_test_split(X, y, test_size=0.3, stratify=y, random_state=42)\n",
    "\n",
    "# Cell 6: Train model\n",
    "model = RandomForestClassifier(n_estimators=100, random_state=42)\n",
    "model.fit(X_train, y_train)\n",
    "\n",
    "# Cell 7: Evaluate model\n",
    "y_pred = model.predict(X_test)\n",
    "print(confusion_matrix(y_test, y_pred))\n",
    "print(classification_report(y_test, y_pred))\n",
    "\n",
    "# Cell 8: Feature importance (optional)\n",
    "feat_imp = pd.Series(model.feature_importances_, index=X.columns)\n",
    "feat_imp.nlargest(10).plot(kind='barh')\n",
    "plt.title(\"Top Features Important for Fraud Detection\")\n",
    "plt.show()\n"
   ]
  },
  {
   "cell_type": "code",
   "execution_count": null,
   "id": "5c7c0654-c589-427d-b801-5fe4bd8e6de8",
   "metadata": {},
   "outputs": [],
   "source": []
  },
  {
   "cell_type": "code",
   "execution_count": null,
   "id": "38f9b86b-1977-41e0-9ce2-4f1549738549",
   "metadata": {},
   "outputs": [],
   "source": []
  }
 ],
 "metadata": {
  "kernelspec": {
   "display_name": "Python 3 (ipykernel)",
   "language": "python",
   "name": "python3"
  },
  "language_info": {
   "codemirror_mode": {
    "name": "ipython",
    "version": 3
   },
   "file_extension": ".py",
   "mimetype": "text/x-python",
   "name": "python",
   "nbconvert_exporter": "python",
   "pygments_lexer": "ipython3",
   "version": "3.13.1"
  }
 },
 "nbformat": 4,
 "nbformat_minor": 5
}
